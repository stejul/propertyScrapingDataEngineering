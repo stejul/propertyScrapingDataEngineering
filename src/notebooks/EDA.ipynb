{
 "cells": [
  {
   "cell_type": "code",
   "execution_count": 1,
   "id": "4c40b3ab",
   "metadata": {},
   "outputs": [
    {
     "name": "stderr",
     "output_type": "stream",
     "text": [
      "21/09/04 16:30:00 WARN Utils: Your hostname, DESKTOP-58VHONS resolves to a loopback address: 127.0.1.1; using 172.18.139.157 instead (on interface eth0)\n",
      "21/09/04 16:30:00 WARN Utils: Set SPARK_LOCAL_IP if you need to bind to another address\n",
      "WARNING: An illegal reflective access operation has occurred\n",
      "WARNING: Illegal reflective access by org.apache.spark.unsafe.Platform (file:/home/smikic/.cache/pypoetry/virtualenvs/realestatedataengineering-la76Cphi-py3.8/lib/python3.8/site-packages/pyspark/jars/spark-unsafe_2.12-3.1.2.jar) to constructor java.nio.DirectByteBuffer(long,int)\n",
      "WARNING: Please consider reporting this to the maintainers of org.apache.spark.unsafe.Platform\n",
      "WARNING: Use --illegal-access=warn to enable warnings of further illegal reflective access operations\n",
      "WARNING: All illegal access operations will be denied in a future release\n"
     ]
    },
    {
     "name": "stdout",
     "output_type": "stream",
     "text": [
      ":: loading settings :: url = jar:file:/home/smikic/.cache/pypoetry/virtualenvs/realestatedataengineering-la76Cphi-py3.8/lib/python3.8/site-packages/pyspark/jars/ivy-2.4.0.jar!/org/apache/ivy/core/settings/ivysettings.xml\n"
     ]
    },
    {
     "name": "stderr",
     "output_type": "stream",
     "text": [
      "Ivy Default Cache set to: /home/smikic/.ivy2/cache\n",
      "The jars for the packages stored in: /home/smikic/.ivy2/jars\n",
      "io.delta#delta-core_2.12 added as a dependency\n",
      ":: resolving dependencies :: org.apache.spark#spark-submit-parent-12082193-1ce9-4211-b4bd-8b5194fe5dd6;1.0\n",
      "\tconfs: [default]\n",
      "\tfound io.delta#delta-core_2.12;1.0.0 in central\n",
      "\tfound org.antlr#antlr4;4.7 in central\n",
      "\tfound org.antlr#antlr4-runtime;4.7 in central\n",
      "\tfound org.antlr#antlr-runtime;3.5.2 in central\n",
      "\tfound org.antlr#ST4;4.0.8 in central\n",
      "\tfound org.abego.treelayout#org.abego.treelayout.core;1.0.3 in central\n",
      "\tfound org.glassfish#javax.json;1.0.4 in central\n",
      "\tfound com.ibm.icu#icu4j;58.2 in central\n",
      ":: resolution report :: resolve 364ms :: artifacts dl 10ms\n",
      "\t:: modules in use:\n",
      "\tcom.ibm.icu#icu4j;58.2 from central in [default]\n",
      "\tio.delta#delta-core_2.12;1.0.0 from central in [default]\n",
      "\torg.abego.treelayout#org.abego.treelayout.core;1.0.3 from central in [default]\n",
      "\torg.antlr#ST4;4.0.8 from central in [default]\n",
      "\torg.antlr#antlr-runtime;3.5.2 from central in [default]\n",
      "\torg.antlr#antlr4;4.7 from central in [default]\n",
      "\torg.antlr#antlr4-runtime;4.7 from central in [default]\n",
      "\torg.glassfish#javax.json;1.0.4 from central in [default]\n",
      "\t---------------------------------------------------------------------\n",
      "\t|                  |            modules            ||   artifacts   |\n",
      "\t|       conf       | number| search|dwnlded|evicted|| number|dwnlded|\n",
      "\t---------------------------------------------------------------------\n",
      "\t|      default     |   8   |   0   |   0   |   0   ||   8   |   0   |\n",
      "\t---------------------------------------------------------------------\n",
      ":: retrieving :: org.apache.spark#spark-submit-parent-12082193-1ce9-4211-b4bd-8b5194fe5dd6\n",
      "\tconfs: [default]\n",
      "\t0 artifacts copied, 8 already retrieved (0kB/10ms)\n",
      "21/09/04 16:30:02 WARN NativeCodeLoader: Unable to load native-hadoop library for your platform... using builtin-java classes where applicable\n",
      "Using Spark's default log4j profile: org/apache/spark/log4j-defaults.properties\n",
      "Setting default log level to \"WARN\".\n",
      "To adjust logging level use sc.setLogLevel(newLevel). For SparkR, use setLogLevel(newLevel).\n"
     ]
    }
   ],
   "source": [
    "from delta import *\n",
    "import pyspark\n",
    "\n",
    "builder = pyspark.sql.SparkSession.builder.appName(\"MyApp\") \\\n",
    "    .config(\"spark.sql.extensions\", \"io.delta.sql.DeltaSparkSessionExtension\") \\\n",
    "    .config(\"spark.sql.catalog.spark_catalog\", \"org.apache.spark.sql.delta.catalog.DeltaCatalog\")\n",
    "\n",
    "spark = spark = configure_spark_with_delta_pip(builder).getOrCreate()"
   ]
  },
  {
   "cell_type": "code",
   "execution_count": 8,
   "id": "52cfceaf",
   "metadata": {},
   "outputs": [
    {
     "name": "stdout",
     "output_type": "stream",
     "text": [
      "+---+--------------------+----------+--------------+--------+---------+---------+--------------------+\n",
      "|_c0|                 _c1|       _c2|           _c3|     _c4|      _c5|      _c6|                 _c7|\n",
      "+---+--------------------+----------+--------------+--------+---------+---------+--------------------+\n",
      "| id|               title|     price|number_of_room|apt_size| district|     city|      street_address|\n",
      "|  0|Geniale 2-Zimmer ...|     € 720|      2 Zimmer| 48,66 m|  Bludenz|Thüringen|  , Alte Landstr. 1 |\n",
      "|  2|3 Zimmer Wohnung ...|     € 648|      3 Zimmer| 56,82 m|  Bludenz| Bludesch|     , Mühleplatz 5 |\n",
      "|  4|2 Zimmer Mietwohn...|     € 790|      2 Zimmer|  72,8 m|  Bludenz|  Bludenz|                null|\n",
      "|  6|Sonnige 3-Zimmer-...|  € 955,52|      3 Zimmer|    69 m|  Bregenz|  Wolfurt|                null|\n",
      "|  8|Helle 2-Zimmerwoh...|  € 871,61|      2 Zimmer| 52,15 m| Dornbirn| Dornbirn|                null|\n",
      "| 10|3-Zimmer Wohnung ...|  € 858,36|      3 Zimmer|    70 m|Feldkirch| Frastanz|                null|\n",
      "| 12|Großzügige 2-Zimm...|     € 800|      2 Zimmer|    63 m| Dornbirn| Hohenems|                null|\n",
      "| 14|3-Zimmer Wohnung ...|     € 900|      3 Zimmer|    60 m| Dornbirn| Dornbirn|                null|\n",
      "| 16|2-Zimmer Wohnung ...|     € 890|      2 Zimmer|    53 m| Dornbirn| Dornbirn| , Frühlingsstraß...|\n",
      "| 18|Freiraum - modern...|     € 870|      2 Zimmer|  54,1 m|  Bregenz|  Bregenz| , Feldmoosgasse 1b |\n",
      "| 20|Exklusive 2-Zimme...|     € 948|      2 Zimmer|    54 m|Feldkirch|Feldkirch|                null|\n",
      "| 22|Zwischen Bodensee...|   € 1.129|      2 Zimmer| 72,85 m|  Bregenz|  Bregenz| , Belruptstraße 55 |\n",
      "| 24| Wohnen am Bodensee!|  € 724,63|      2 Zimmer| 46,45 m|  Bregenz|  Bregenz|                null|\n",
      "| 26|Schöne 3,5-Zimmer...|   € 1.406|    3,5 Zimmer|   130 m|  Bludenz|  Nenzing|                null|\n",
      "| 28|Große 2-Zimmer Wo...|  € 897,48|      2 Zimmer| 66,35 m|  Bludenz|  Nenzing|                null|\n",
      "| 30|Neubau! 3-Zimmer ...|€ 1.605,63|      3 Zimmer|  146371| Dornbirn| Dornbirn|                null|\n",
      "| 32|2-Zimmer-Stadtwoh...|  € 877,20|      2 Zimmer|    54 m| Dornbirn| Dornbirn|     , Riedgasse 32 |\n",
      "| 34|Tolle 2 Zimmerwoh...|     € 840|      2 Zimmer|    57 m| Dornbirn| Hohenems|                null|\n",
      "| 36|Neubau: Tolle 2 Z...|     € 890|      2 Zimmer| 58,03 m|Feldkirch|   Götzis|                null|\n",
      "+---+--------------------+----------+--------------+--------+---------+---------+--------------------+\n",
      "only showing top 20 rows\n",
      "\n"
     ]
    }
   ],
   "source": [
    "df = spark.read.csv(\"../data/apt_data.csv\")\n",
    "df.show()\n",
    "df.write.format(\"delta\").mode(\"overwrite\").save(\"../delta/apt\")"
   ]
  }
 ],
 "metadata": {
  "kernelspec": {
   "display_name": "Python 3 (ipykernel)",
   "language": "python",
   "name": "python3"
  },
  "language_info": {
   "codemirror_mode": {
    "name": "ipython",
    "version": 3
   },
   "file_extension": ".py",
   "mimetype": "text/x-python",
   "name": "python",
   "nbconvert_exporter": "python",
   "pygments_lexer": "ipython3",
   "version": "3.8.10"
  }
 },
 "nbformat": 4,
 "nbformat_minor": 5
}
